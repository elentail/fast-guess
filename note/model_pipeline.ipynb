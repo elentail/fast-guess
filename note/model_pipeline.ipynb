{
 "cells": [
  {
   "cell_type": "markdown",
   "id": "f92683ec",
   "metadata": {},
   "source": [
    "## Wikiextractor 를 통해 "
   ]
  },
  {
   "cell_type": "code",
   "execution_count": 1,
   "id": "5b9a376b",
   "metadata": {},
   "outputs": [],
   "source": [
    "import os\n",
    "import re\n",
    "from tqdm import tqdm\n",
    "from kiwipiepy import Kiwi, Option\n",
    "from kiwipiepy.utils import Stopwords\n",
    "\n",
    "from gensim.models import FastText\n",
    "from multiprocessing import Pool"
   ]
  },
  {
   "cell_type": "markdown",
   "id": "5ae3beaa",
   "metadata": {},
   "source": [
    "## wikiextractor 설치"
   ]
  },
  {
   "cell_type": "markdown",
   "id": "c68eb0e4",
   "metadata": {},
   "source": [
    "- pip install wikiextractor\n",
    "- wget https://dumps.wikimedia.org/kowiki/latest/kowiki-latest-pages-articles.xml.bz2\n",
    "- python -m wikiextractor.WikiExtractor kowiki-latest-pages-articles.xml.bz2"
   ]
  },
  {
   "cell_type": "markdown",
   "id": "6b59be43",
   "metadata": {},
   "source": [
    "```\n",
    "├── kowiki-latest-pages-articles6.xml-p3270441p3326027.bz2\n",
    "├── model_pipeline.ipynb\n",
    "└── text\n",
    "    └── AA\n",
    "        ├── wiki_00\n",
    "        ├── wiki_01\n",
    "        ├── wiki_02\n",
    "        ├── wiki_03\n",
    "        ├── wiki_04\n",
    "        ├── wiki_05\n",
    "        ├── wiki_06\n",
    "        ├── wiki_07\n",
    "        ├── wiki_08\n",
    "        ├── wiki_09\n",
    "        ├── wiki_10\n",
    "        └── wiki_11\n",
    "```"
   ]
  },
  {
   "cell_type": "code",
   "execution_count": 2,
   "id": "8f7c16ef",
   "metadata": {},
   "outputs": [],
   "source": [
    "wiki_files = []\n",
    "for root, dirs, files in os.walk('./text'):\n",
    "    for f in files:\n",
    "        if f.startswith('wiki'): wiki_files.append(f'{root}/{f}')"
   ]
  },
  {
   "cell_type": "code",
   "execution_count": 3,
   "id": "62dec53a",
   "metadata": {},
   "outputs": [
    {
     "data": {
      "text/plain": [
       "['./text/AA/wiki_00',\n",
       " './text/AA/wiki_10',\n",
       " './text/AA/wiki_06',\n",
       " './text/AA/wiki_05',\n",
       " './text/AA/wiki_03',\n",
       " './text/AA/wiki_07',\n",
       " './text/AA/wiki_11',\n",
       " './text/AA/wiki_08',\n",
       " './text/AA/wiki_01',\n",
       " './text/AA/wiki_02',\n",
       " './text/AA/wiki_09',\n",
       " './text/AA/wiki_04']"
      ]
     },
     "execution_count": 3,
     "metadata": {},
     "output_type": "execute_result"
    }
   ],
   "source": [
    "wiki_files"
   ]
  },
  {
   "cell_type": "code",
   "execution_count": 4,
   "id": "cd9ab9c1",
   "metadata": {},
   "outputs": [],
   "source": [
    "kiwi = Kiwi()\n",
    "stopwords = Stopwords()"
   ]
  },
  {
   "cell_type": "code",
   "execution_count": 21,
   "id": "d6a8a313",
   "metadata": {},
   "outputs": [],
   "source": [
    "WIKI_REMOVE_CHARS = re.compile(\"'+|(=+.{2,30}=+)|__TOC__|(ファイル:).+|:(en|de|it|fr|es|kr|zh|no|fi):|\\n\", re.UNICODE)\n",
    "WIKI_SPACE_CHARS = re.compile(\"(\\\\s|゙|゚|　)+\", re.UNICODE)\n",
    "EMAIL_PATTERN = re.compile(\"(^[a-zA-Z0-9_.+-]+@[a-zA-Z0-9-]+\\.[a-zA-Z0-9-.]+$)\", re.UNICODE)\n",
    "URL_PATTERN = re.compile(\"(ftp|http|https)?://(?:[a-zA-Z]|[0-9]|[$-_@.&+]|[!*\\(\\),]|(?:%[0-9a-fA-F][0-9a-fA-F]))+\", re.UNICODE)\n",
    "WIKI_REMOVE_TOKEN_CHARS = re.compile(\"(\\\\*$|:$|^파일:.+|^;)\", re.UNICODE)\n",
    "MULTIPLE_SPACES = re.compile(' +', re.UNICODE)\n",
    "WIKI_DOC_TAG = re.compile(r'\\s*</?')\n",
    "\n",
    "def replacer(content):\n",
    "    content = re.sub(EMAIL_PATTERN, ' ', content)  # remove email pattern\n",
    "    content = re.sub(URL_PATTERN, ' ', content) # remove url pattern\n",
    "    content = re.sub(WIKI_REMOVE_CHARS, ' ', content)  # remove unnecessary chars\n",
    "    content = re.sub(WIKI_SPACE_CHARS, ' ', content)\n",
    "    content = re.sub(MULTIPLE_SPACES, ' ', content)\n",
    "    return content\n",
    "\n",
    "def tokenizer(content):\n",
    "    content = replacer(content);\n",
    "    tokens = kiwi.tokenize(content, stopwords=stopwords, normalize_coda=True)\n",
    "    return tokens\n",
    "    \n",
    "def worker(file_path):\n",
    "    return_tokens = []\n",
    "    with open(file_path, 'r') as fr:\n",
    "        for row in fr:\n",
    "            if re.match(WIKI_DOC_TAG, row): continue\n",
    "            tokens = tokenizer(row)\n",
    "            if 5 < len(tokens) < 1000:\n",
    "                return_tokens.append([t.form for t in tokens])\n",
    "    return return_tokens"
   ]
  },
  {
   "cell_type": "markdown",
   "id": "a29ec19d",
   "metadata": {},
   "source": [
    "### map vs apply vs map_async vs imap vs imap_unordered\n",
    "https://tempdev.tistory.com/27"
   ]
  },
  {
   "cell_type": "code",
   "execution_count": 22,
   "id": "4a4ac49b",
   "metadata": {},
   "outputs": [],
   "source": [
    "all_list = []\n",
    "with Pool(3) as pool:\n",
    "    for ret in pool.imap_unordered(worker, wiki_files):\n",
    "        all_list.append(ret)\n",
    "flat_list = [item for sublist in all_list for item in sublist ]        "
   ]
  },
  {
   "cell_type": "code",
   "execution_count": 24,
   "id": "f0257d7a",
   "metadata": {},
   "outputs": [],
   "source": [
    "model = FastText(vector_size=100, window=5, min_count=3)\n",
    "model.build_vocab(corpus_iterable=flat_list)\n",
    "model.train(corpus_iterable=flat_list, total_examples=len(flat_list), epochs=10) "
   ]
  },
  {
   "cell_type": "code",
   "execution_count": 45,
   "id": "b93ee33c",
   "metadata": {},
   "outputs": [
    {
     "data": {
      "text/plain": [
       "0.78960735"
      ]
     },
     "execution_count": 45,
     "metadata": {},
     "output_type": "execute_result"
    }
   ],
   "source": [
    "model.wv.similarity('러시아', '소련')"
   ]
  }
 ],
 "metadata": {
  "kernelspec": {
   "display_name": "Python 3 (ipykernel)",
   "language": "python",
   "name": "python3"
  },
  "language_info": {
   "codemirror_mode": {
    "name": "ipython",
    "version": 3
   },
   "file_extension": ".py",
   "mimetype": "text/x-python",
   "name": "python",
   "nbconvert_exporter": "python",
   "pygments_lexer": "ipython3",
   "version": "3.8.11"
  }
 },
 "nbformat": 4,
 "nbformat_minor": 5
}
